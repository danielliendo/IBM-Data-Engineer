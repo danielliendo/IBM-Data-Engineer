{
 "cells": [
  {
   "cell_type": "markdown",
   "metadata": {},
   "source": [
    "<center>\n",
    "    <img src=\"https://gitlab.com/ibm/skills-network/courses/placeholder101/-/raw/master/labs/module%201/images/IDSNlogo.png\" width=\"300\" alt=\"cognitiveclass.ai logo\"  />\n",
    "</center>\n"
   ]
  },
  {
   "cell_type": "markdown",
   "metadata": {},
   "source": [
    "# Peer Review Assignment - Data Engineer - Extract API Data\n"
   ]
  },
  {
   "cell_type": "markdown",
   "metadata": {},
   "source": [
    "Estimated time needed: **20** minutes\n"
   ]
  },
  {
   "cell_type": "markdown",
   "metadata": {},
   "source": [
    "## Objectives\n",
    "\n",
    "In this part you will:\n",
    "\n",
    "*   Collect exchange rate data using an API\n",
    "*   Store the data as a CSV\n"
   ]
  },
  {
   "cell_type": "markdown",
   "metadata": {},
   "source": [
    "For this lab, we are going to be using Python and several Python libraries. Some of these libraries might be installed in your lab environment or in SN Labs. Others may need to be installed by you. The cells below will install these libraries when executed.\n"
   ]
  },
  {
   "cell_type": "code",
   "execution_count": null,
   "metadata": {},
   "outputs": [],
   "source": [
    "#!pip install pandas\n",
    "#!pip install requests"
   ]
  },
  {
   "cell_type": "markdown",
   "metadata": {},
   "source": [
    "## Imports\n",
    "\n",
    "Import any additional libraries you may need here.\n"
   ]
  },
  {
   "cell_type": "code",
   "execution_count": 1,
   "metadata": {},
   "outputs": [],
   "source": [
    "import requests\n",
    "import pandas as pd"
   ]
  },
  {
   "cell_type": "markdown",
   "metadata": {},
   "source": [
    "## Extract Data Using an API\n"
   ]
  },
  {
   "cell_type": "markdown",
   "metadata": {},
   "source": [
    "Using ExchangeRate-API we will extract currency exchange rate data. Use the below steps to get the access key and to get the data.\n",
    "\n",
    "1.  Open the url : [https://exchangeratesapi.io/](https://exchangeratesapi.io/?utm_medium=Exinfluencer&utm_source=Exinfluencer&utm_content=000026UJ&utm_term=10006555&utm_id=NA-SkillsNetwork-Channel-SkillsNetworkCoursesIBMDeveloperSkillsNetworkPY0221ENSkillsNetwork23455645-2021-01-01) and create a free account.\n",
    "2.  Once the account is created. You will get the Get the Free API key option on the top as shown below:\n",
    "\n",
    "<img src=\"https://cf-courses-data.s3.us.cloud-object-storage.appdomain.cloud/IBMDeveloperSkillsNetwork-PY0221EN-SkillsNetwork/labs/module%206/Final%20Assignment/Images/getapi.png\"/>\n",
    "\n",
    "3.  Copy the API key and use in the url in Question 1.\n"
   ]
  },
  {
   "cell_type": "markdown",
   "metadata": {},
   "source": [
    "### Call the API\n",
    "\n",
    "<b> Question 1</b> Using the `requests` library call the endpoint given above and save the text, remember the first few characters of the output:\n"
   ]
  },
  {
   "cell_type": "code",
   "execution_count": 5,
   "metadata": {},
   "outputs": [
    {
     "name": "stdout",
     "output_type": "stream",
     "text": [
      "{'success': True, 'timestamp': 1639618770, 'base': 'EUR', 'date': '2021-12-16', 'rates': {'AED': 4.145741, 'AFN': 124.797249, 'ALL': 121.050649, 'AMD': 544.044029, 'ANG': 2.034163, 'AOA': 629.754117, 'ARS': 114.907021, 'AUD': 1.572956, 'AWG': 2.032179, 'AZN': 1.911025, 'BAM': 1.958719, 'BBD': 2.27882, 'BDT': 96.835914, 'BGN': 1.953878, 'BHD': 0.42556, 'BIF': 2258.477757, 'BMD': 1.128675, 'BND': 1.544212, 'BOB': 7.781939, 'BRL': 6.411208, 'BSD': 1.128644, 'BTC': 2.3052041e-05, 'BTN': 86.158536, 'BWP': 13.365107, 'BYN': 2.85461, 'BYR': 22122.021005, 'BZD': 2.275055, 'CAD': 1.449647, 'CDF': 2258.478192, 'CHF': 1.044346, 'CLF': 0.034822, 'CLP': 960.852091, 'CNY': 7.187175, 'COP': 4515.036767, 'CRC': 720.292269, 'CUC': 1.128675, 'CUP': 29.909875, 'CVE': 111.03332, 'CZK': 25.266001, 'DJF': 200.587834, 'DKK': 7.436051, 'DOP': 64.278296, 'DZD': 157.16906, 'EGP': 17.731931, 'ERN': 16.930206, 'ETB': 54.57118, 'EUR': 1, 'FJD': 2.40402, 'FKP': 0.851448, 'GBP': 0.851337, 'GEL': 3.493228, 'GGP': 0.851448, 'GHS': 6.901853, 'GIP': 0.851448, 'GMD': 59.537799, 'GNF': 10524.890167, 'GTQ': 8.727565, 'GYD': 236.135569, 'HKD': 8.806867, 'HNL': 27.437881, 'HRK': 7.518328, 'HTG': 113.045714, 'HUF': 368.898277, 'IDR': 16166.118319, 'ILS': 3.520488, 'IMP': 0.851448, 'INR': 86.017359, 'IQD': 1647.86483, 'IRR': 47686.499603, 'ISK': 146.986876, 'JEP': 0.851448, 'JMD': 173.912334, 'JOD': 0.800243, 'JPY': 128.826348, 'KES': 127.540144, 'KGS': 95.703815, 'KHR': 4593.705375, 'KMF': 493.512695, 'KPW': 1015.807, 'KRW': 1334.911586, 'KWD': 0.342406, 'KYD': 0.940608, 'KZT': 494.281437, 'LAK': 12483.140658, 'LBP': 1727.680978, 'LKR': 227.993289, 'LRD': 159.763374, 'LSL': 18.296055, 'LTL': 3.332683, 'LVL': 0.682724, 'LYD': 5.202849, 'MAD': 10.459995, 'MDL': 20.005403, 'MGA': 4493.253607, 'MKD': 61.574604, 'MMK': 2009.049797, 'MNT': 3226.185986, 'MOP': 9.07178, 'MRO': 402.936617, 'MUR': 48.815133, 'MVR': 17.449543, 'MWK': 923.818712, 'MXN': 23.762718, 'MYR': 4.770863, 'MZN': 72.043531, 'NAD': 18.295686, 'NGN': 462.734052, 'NIO': 39.943643, 'NOK': 10.170915, 'NPR': 137.852355, 'NZD': 1.666063, 'OMR': 0.434552, 'PAB': 1.128644, 'PEN': 4.57508, 'PGK': 3.961368, 'PHP': 56.591178, 'PKR': 200.903864, 'PLN': 4.62156, 'PYG': 7672.753516, 'QAR': 4.109486, 'RON': 4.949465, 'RSD': 117.895734, 'RUB': 83.145843, 'RWF': 1131.496227, 'SAR': 4.234355, 'SBD': 9.14284, 'SCR': 15.373155, 'SDG': 493.785839, 'SEK': 10.248475, 'SGD': 1.541635, 'SHP': 1.554639, 'SLL': 12677.272386, 'SOS': 660.274554, 'SRD': 24.315595, 'STD': 23361.284215, 'SVC': 9.875564, 'SYP': 2835.786639, 'SZL': 18.29576, 'THB': 37.695296, 'TJS': 12.74204, 'TMT': 3.950361, 'TND': 3.259566, 'TOP': 2.586136, 'TRY': 16.701482, 'TTD': 7.666871, 'TWD': 31.369815, 'TZS': 2595.951407, 'UAH': 30.75015, 'UGX': 4023.633955, 'USD': 1.128675, 'UYU': 49.92718, 'UZS': 12246.119069, 'VEF': 241344728060.62433, 'VND': 25999.018053, 'VUV': 127.825386, 'WST': 2.934747, 'XAF': 656.94039, 'XAG': 0.051092, 'XAU': 0.000634, 'XCD': 3.0503, 'XDR': 0.806908, 'XOF': 656.888738, 'XPF': 120.034288, 'YER': 282.451037, 'ZAR': 18.082083, 'ZMK': 10159.423115, 'ZMW': 18.453515, 'ZWL': 363.432742}}\n"
     ]
    }
   ],
   "source": [
    "# Write your code here\n",
    "url = \"http://api.exchangeratesapi.io/v1/latest?base=EUR&access_key=573afa0fa7229d43cae22f0f5acf62d3\"  #Make sure to change ******* to your API key.\n",
    "#url = \"http://api.exchangeratesapi.io/v1/latest?access_key=573afa0fa7229d43cae22f0f5acf62d3\"\n",
    "req=requests.get(url)\n",
    "print(req.json())"
   ]
  },
  {
   "cell_type": "markdown",
   "metadata": {},
   "source": [
    "### Save as DataFrame\n",
    "\n",
    "<b> Question 2</b>  Using the data gathered turn it into a `pandas` dataframe. The dataframe should have the Currency as the index and `Rate` as their columns. Make sure to drop unnecessary columns.\n"
   ]
  },
  {
   "cell_type": "code",
   "execution_count": 11,
   "metadata": {},
   "outputs": [
    {
     "data": {
      "text/html": [
       "<div>\n",
       "<style scoped>\n",
       "    .dataframe tbody tr th:only-of-type {\n",
       "        vertical-align: middle;\n",
       "    }\n",
       "\n",
       "    .dataframe tbody tr th {\n",
       "        vertical-align: top;\n",
       "    }\n",
       "\n",
       "    .dataframe thead th {\n",
       "        text-align: right;\n",
       "    }\n",
       "</style>\n",
       "<table border=\"1\" class=\"dataframe\">\n",
       "  <thead>\n",
       "    <tr style=\"text-align: right;\">\n",
       "      <th></th>\n",
       "      <th>success</th>\n",
       "      <th>timestamp</th>\n",
       "      <th>base</th>\n",
       "      <th>date</th>\n",
       "      <th>rates</th>\n",
       "    </tr>\n",
       "  </thead>\n",
       "  <tbody>\n",
       "    <tr>\n",
       "      <th>AED</th>\n",
       "      <td>True</td>\n",
       "      <td>2021-12-16 01:39:30</td>\n",
       "      <td>EUR</td>\n",
       "      <td>2021-12-16</td>\n",
       "      <td>4.145741</td>\n",
       "    </tr>\n",
       "    <tr>\n",
       "      <th>AFN</th>\n",
       "      <td>True</td>\n",
       "      <td>2021-12-16 01:39:30</td>\n",
       "      <td>EUR</td>\n",
       "      <td>2021-12-16</td>\n",
       "      <td>124.797249</td>\n",
       "    </tr>\n",
       "    <tr>\n",
       "      <th>ALL</th>\n",
       "      <td>True</td>\n",
       "      <td>2021-12-16 01:39:30</td>\n",
       "      <td>EUR</td>\n",
       "      <td>2021-12-16</td>\n",
       "      <td>121.050649</td>\n",
       "    </tr>\n",
       "    <tr>\n",
       "      <th>AMD</th>\n",
       "      <td>True</td>\n",
       "      <td>2021-12-16 01:39:30</td>\n",
       "      <td>EUR</td>\n",
       "      <td>2021-12-16</td>\n",
       "      <td>544.044029</td>\n",
       "    </tr>\n",
       "    <tr>\n",
       "      <th>ANG</th>\n",
       "      <td>True</td>\n",
       "      <td>2021-12-16 01:39:30</td>\n",
       "      <td>EUR</td>\n",
       "      <td>2021-12-16</td>\n",
       "      <td>2.034163</td>\n",
       "    </tr>\n",
       "    <tr>\n",
       "      <th>...</th>\n",
       "      <td>...</td>\n",
       "      <td>...</td>\n",
       "      <td>...</td>\n",
       "      <td>...</td>\n",
       "      <td>...</td>\n",
       "    </tr>\n",
       "    <tr>\n",
       "      <th>YER</th>\n",
       "      <td>True</td>\n",
       "      <td>2021-12-16 01:39:30</td>\n",
       "      <td>EUR</td>\n",
       "      <td>2021-12-16</td>\n",
       "      <td>282.451037</td>\n",
       "    </tr>\n",
       "    <tr>\n",
       "      <th>ZAR</th>\n",
       "      <td>True</td>\n",
       "      <td>2021-12-16 01:39:30</td>\n",
       "      <td>EUR</td>\n",
       "      <td>2021-12-16</td>\n",
       "      <td>18.082083</td>\n",
       "    </tr>\n",
       "    <tr>\n",
       "      <th>ZMK</th>\n",
       "      <td>True</td>\n",
       "      <td>2021-12-16 01:39:30</td>\n",
       "      <td>EUR</td>\n",
       "      <td>2021-12-16</td>\n",
       "      <td>10159.423115</td>\n",
       "    </tr>\n",
       "    <tr>\n",
       "      <th>ZMW</th>\n",
       "      <td>True</td>\n",
       "      <td>2021-12-16 01:39:30</td>\n",
       "      <td>EUR</td>\n",
       "      <td>2021-12-16</td>\n",
       "      <td>18.453515</td>\n",
       "    </tr>\n",
       "    <tr>\n",
       "      <th>ZWL</th>\n",
       "      <td>True</td>\n",
       "      <td>2021-12-16 01:39:30</td>\n",
       "      <td>EUR</td>\n",
       "      <td>2021-12-16</td>\n",
       "      <td>363.432742</td>\n",
       "    </tr>\n",
       "  </tbody>\n",
       "</table>\n",
       "<p>168 rows × 5 columns</p>\n",
       "</div>"
      ],
      "text/plain": [
       "     success           timestamp base       date         rates\n",
       "AED     True 2021-12-16 01:39:30  EUR 2021-12-16      4.145741\n",
       "AFN     True 2021-12-16 01:39:30  EUR 2021-12-16    124.797249\n",
       "ALL     True 2021-12-16 01:39:30  EUR 2021-12-16    121.050649\n",
       "AMD     True 2021-12-16 01:39:30  EUR 2021-12-16    544.044029\n",
       "ANG     True 2021-12-16 01:39:30  EUR 2021-12-16      2.034163\n",
       "..       ...                 ...  ...        ...           ...\n",
       "YER     True 2021-12-16 01:39:30  EUR 2021-12-16    282.451037\n",
       "ZAR     True 2021-12-16 01:39:30  EUR 2021-12-16     18.082083\n",
       "ZMK     True 2021-12-16 01:39:30  EUR 2021-12-16  10159.423115\n",
       "ZMW     True 2021-12-16 01:39:30  EUR 2021-12-16     18.453515\n",
       "ZWL     True 2021-12-16 01:39:30  EUR 2021-12-16    363.432742\n",
       "\n",
       "[168 rows x 5 columns]"
      ]
     },
     "execution_count": 11,
     "metadata": {},
     "output_type": "execute_result"
    }
   ],
   "source": [
    "# Turn the data into a dataframe\n",
    "df = pd.read_json(url)\n",
    "df"
   ]
  },
  {
   "cell_type": "code",
   "execution_count": 13,
   "metadata": {},
   "outputs": [
    {
     "data": {
      "text/html": [
       "<div>\n",
       "<style scoped>\n",
       "    .dataframe tbody tr th:only-of-type {\n",
       "        vertical-align: middle;\n",
       "    }\n",
       "\n",
       "    .dataframe tbody tr th {\n",
       "        vertical-align: top;\n",
       "    }\n",
       "\n",
       "    .dataframe thead th {\n",
       "        text-align: right;\n",
       "    }\n",
       "</style>\n",
       "<table border=\"1\" class=\"dataframe\">\n",
       "  <thead>\n",
       "    <tr style=\"text-align: right;\">\n",
       "      <th></th>\n",
       "      <th>rates</th>\n",
       "    </tr>\n",
       "  </thead>\n",
       "  <tbody>\n",
       "    <tr>\n",
       "      <th>AED</th>\n",
       "      <td>4.145741</td>\n",
       "    </tr>\n",
       "    <tr>\n",
       "      <th>AFN</th>\n",
       "      <td>124.797249</td>\n",
       "    </tr>\n",
       "    <tr>\n",
       "      <th>ALL</th>\n",
       "      <td>121.050649</td>\n",
       "    </tr>\n",
       "    <tr>\n",
       "      <th>AMD</th>\n",
       "      <td>544.044029</td>\n",
       "    </tr>\n",
       "    <tr>\n",
       "      <th>ANG</th>\n",
       "      <td>2.034163</td>\n",
       "    </tr>\n",
       "    <tr>\n",
       "      <th>...</th>\n",
       "      <td>...</td>\n",
       "    </tr>\n",
       "    <tr>\n",
       "      <th>YER</th>\n",
       "      <td>282.451037</td>\n",
       "    </tr>\n",
       "    <tr>\n",
       "      <th>ZAR</th>\n",
       "      <td>18.082083</td>\n",
       "    </tr>\n",
       "    <tr>\n",
       "      <th>ZMK</th>\n",
       "      <td>10159.423115</td>\n",
       "    </tr>\n",
       "    <tr>\n",
       "      <th>ZMW</th>\n",
       "      <td>18.453515</td>\n",
       "    </tr>\n",
       "    <tr>\n",
       "      <th>ZWL</th>\n",
       "      <td>363.432742</td>\n",
       "    </tr>\n",
       "  </tbody>\n",
       "</table>\n",
       "<p>168 rows × 1 columns</p>\n",
       "</div>"
      ],
      "text/plain": [
       "            rates\n",
       "AED      4.145741\n",
       "AFN    124.797249\n",
       "ALL    121.050649\n",
       "AMD    544.044029\n",
       "ANG      2.034163\n",
       "..            ...\n",
       "YER    282.451037\n",
       "ZAR     18.082083\n",
       "ZMK  10159.423115\n",
       "ZMW     18.453515\n",
       "ZWL    363.432742\n",
       "\n",
       "[168 rows x 1 columns]"
      ]
     },
     "execution_count": 13,
     "metadata": {},
     "output_type": "execute_result"
    }
   ],
   "source": [
    "# Drop unnescessary columns\n",
    "df.drop(['success', 'timestamp', 'base', 'date'], axis=1, inplace = True)\n",
    "df"
   ]
  },
  {
   "cell_type": "markdown",
   "metadata": {},
   "source": [
    "### Load the Data\n",
    "\n",
    "Using the dataframe save it as a CSV names `exchange_rates_1.csv`.\n"
   ]
  },
  {
   "cell_type": "code",
   "execution_count": 21,
   "metadata": {},
   "outputs": [],
   "source": [
    "# Save the Dataframe\n",
    "df.to_csv('./exchange_rates_1.csv')"
   ]
  },
  {
   "cell_type": "markdown",
   "metadata": {},
   "source": [
    "Your CSV should be in this format with more currencies\n",
    "\n",
    "|     | Rates      |\n",
    "| --- | ---------- |\n",
    "| AED | 4.398618   |\n",
    "| AFN | 92.917693  |\n",
    "| ALL | 123.099093 |\n",
    "| AMD | 621.935674 |\n",
    "| ANG | 2.149648   |\n"
   ]
  },
  {
   "cell_type": "markdown",
   "metadata": {},
   "source": [
    "## Authors\n"
   ]
  },
  {
   "cell_type": "markdown",
   "metadata": {},
   "source": [
    "Ramesh Sannareddy, Joseph Santarcangelo and Azim Hirjani\n"
   ]
  },
  {
   "cell_type": "markdown",
   "metadata": {},
   "source": [
    "### Other Contributors\n"
   ]
  },
  {
   "cell_type": "markdown",
   "metadata": {},
   "source": [
    "Rav Ahuja\n"
   ]
  },
  {
   "cell_type": "markdown",
   "metadata": {},
   "source": [
    "## Change Log\n"
   ]
  },
  {
   "cell_type": "markdown",
   "metadata": {},
   "source": [
    "| Date (YYYY-MM-DD) | Version | Changed By        | Change Description                 |\n",
    "| ----------------- | ------- | ----------------- | ---------------------------------- |\n",
    "| 2021-04-15        | 0.2     | Malika            | Updated the lab from USD to EUR    |\n",
    "| 2020-11-25        | 0.1     | Ramesh Sannareddy | Created initial version of the lab |\n"
   ]
  },
  {
   "cell_type": "markdown",
   "metadata": {},
   "source": [
    "Copyright © 2020 IBM Corporation. This notebook and its source code are released under the terms of the [MIT License](https://cognitiveclass.ai/mit-license?utm_medium=Exinfluencer&utm_source=Exinfluencer&utm_content=000026UJ&utm_term=10006555&utm_id=NA-SkillsNetwork-Channel-SkillsNetworkCoursesIBMDeveloperSkillsNetworkPY0221ENSkillsNetwork23455645-2021-01-01&cm_mmc=Email_Newsletter-\\_-Developer_Ed%2BTech-\\_-WW_WW-\\_-SkillsNetwork-Courses-IBM-DA0321EN-SkillsNetwork-21426264&cm_mmca1=000026UJ&cm_mmca2=10006555&cm_mmca3=M12345678&cvosrc=email.Newsletter.M12345678&cvo_campaign=000026UJ).\n"
   ]
  }
 ],
 "metadata": {
  "kernelspec": {
   "display_name": "Python 3",
   "language": "python",
   "name": "python3"
  },
  "language_info": {
   "codemirror_mode": {
    "name": "ipython",
    "version": 3
   },
   "file_extension": ".py",
   "mimetype": "text/x-python",
   "name": "python",
   "nbconvert_exporter": "python",
   "pygments_lexer": "ipython3",
   "version": "3.8.8"
  }
 },
 "nbformat": 4,
 "nbformat_minor": 4
}
